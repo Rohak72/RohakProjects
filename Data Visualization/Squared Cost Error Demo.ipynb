{
 "cells": [
  {
   "cell_type": "code",
   "execution_count": 1,
   "metadata": {},
   "outputs": [],
   "source": [
    "# Cost function for b - (prediction - target)**2\n",
    "def cost(b):\n",
    "    return (b - 4) ** 2"
   ]
  },
  {
   "cell_type": "code",
   "execution_count": 5,
   "metadata": {},
   "outputs": [],
   "source": [
    "# Numerical Slope\n",
    "def num_slope(b):\n",
    "    h = 0.0001\n",
    "    return (cost(b+h) - cost(b)) / h"
   ]
  },
  {
   "cell_type": "code",
   "execution_count": 13,
   "metadata": {},
   "outputs": [],
   "source": [
    "# Slope by derivative\n",
    "def slope(b):\n",
    "    return 2 * (b - 4)"
   ]
  },
  {
   "cell_type": "code",
   "execution_count": 31,
   "metadata": {},
   "outputs": [
    {
     "name": "stdout",
     "output_type": "stream",
     "text": [
      "-15.2\n",
      "-11.36\n",
      "-8.288\n",
      "-5.8304\n",
      "-3.8643199999999998\n",
      "-2.2914559999999997\n",
      "-1.0331647999999996\n",
      "-0.02653183999999964\n",
      "0.7787745280000004\n",
      "1.4230196224000005\n",
      "1.9384156979200005\n",
      "2.3507325583360004\n",
      "2.6805860466688003\n",
      "2.94446883733504\n",
      "3.155575069868032\n",
      "3.3244600558944257\n",
      "3.4595680447155406\n",
      "3.5676544357724325\n",
      "3.654123548617946\n",
      "3.723298838894357\n"
     ]
    }
   ],
   "source": [
    "b = -20\n",
    "# Training Loop - minimizes cost to target value of 4\n",
    "for i in range(20):\n",
    "    b = b - .1 * slope(b)\n",
    "    print(b)"
   ]
  },
  {
   "cell_type": "code",
   "execution_count": null,
   "metadata": {},
   "outputs": [],
   "source": []
  }
 ],
 "metadata": {
  "kernelspec": {
   "display_name": "Python 3",
   "language": "python",
   "name": "python3"
  },
  "language_info": {
   "codemirror_mode": {
    "name": "ipython",
    "version": 3
   },
   "file_extension": ".py",
   "mimetype": "text/x-python",
   "name": "python",
   "nbconvert_exporter": "python",
   "pygments_lexer": "ipython3",
   "version": "3.7.6"
  }
 },
 "nbformat": 4,
 "nbformat_minor": 4
}
